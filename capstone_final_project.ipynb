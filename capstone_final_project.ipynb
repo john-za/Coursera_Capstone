{
 "cells": [
  {
   "cell_type": "markdown",
   "metadata": {},
   "source": [
    "# Introduction\n",
    "---"
   ]
  },
  {
   "cell_type": "markdown",
   "metadata": {},
   "source": [
    "**I'm a data science student and as part of my final data science project, I thought it would be interesting to find out if there is any relationship between\n",
    "KFC outlets and the property valuations of the surrounding area.**\n",
    "\n",
    "If we were to discover a relationship between the location of the KFC outlets and property valuations, KFC could use this analysis to determine where their next outlet should be. \n",
    "On the other hand, KFC's competitors could possibly use this analysis to discover under-serviced neigbourhoods and gain an competitive advantage by opening an outlet there, before KFC does.\n",
    "\n",
    "We will be using publicly available datasets to determine the outcome.\n",
    "\n",
    "**Data sources**:"
   ]
  },
  {
   "cell_type": "markdown",
   "metadata": {},
   "source": [
    "* **Property valuations per neighbourhood**  \n",
    "https://web1.capetown.gov.za/web1/OpenDataPortal/DatasetDetail?DatasetName=Valuations%20property%20bands  \n",
    "  \n",
    "    *Our primary dataset and provides the name of each suburb, along with the the number of properties per price band*  \n",
    "---\n",
    "* **Official planning suburbs**  \n",
    "https://web1.capetown.gov.za/web1/opendataportal/DatasetDetail?DatasetName=Official%20planning%20suburbs  \n",
    "\n",
    "    *Utilised for mapping, providing us the geographic borders of each neighbourhood*  \n",
    "---\n",
    "* **Foursquare location data**  \n",
    "https://developer.foursquare.com/docs/places-api/  \n",
    "\n",
    "    *The api used to locate the various KFC outlets across the region*  \n",
    "---"
   ]
  },
  {
   "cell_type": "code",
   "execution_count": null,
   "metadata": {},
   "outputs": [],
   "source": []
  }
 ],
 "metadata": {
  "kernelspec": {
   "display_name": "Python 3",
   "language": "python",
   "name": "python3"
  },
  "language_info": {
   "codemirror_mode": {
    "name": "ipython",
    "version": 3
   },
   "file_extension": ".py",
   "mimetype": "text/x-python",
   "name": "python",
   "nbconvert_exporter": "python",
   "pygments_lexer": "ipython3",
   "version": "3.7.6"
  }
 },
 "nbformat": 4,
 "nbformat_minor": 4
}
